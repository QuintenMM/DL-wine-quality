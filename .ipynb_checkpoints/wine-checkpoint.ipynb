{
 "cells": [
  {
   "cell_type": "code",
   "execution_count": 21,
   "id": "c268304c",
   "metadata": {},
   "outputs": [],
   "source": [
    "import pandas as pd\n",
    "import numpy as np\n",
    "import tensorflow as tf\n",
    "from tensorflow import keras\n",
    "from matplotlib import pyplot as plt\n",
    "\n",
    "from tensorflow.keras.layers import Dense\n",
    "from tensorflow.keras.models import Sequential\n",
    "\n",
    "from sklearn.model_selection import train_test_split\n",
    "%matplotlib inline"
   ]
  },
  {
   "cell_type": "code",
   "execution_count": 2,
   "id": "04033e48",
   "metadata": {},
   "outputs": [
    {
     "name": "stdout",
     "output_type": "stream",
     "text": [
      "<class 'pandas.core.frame.DataFrame'>\n",
      "RangeIndex: 6497 entries, 0 to 6496\n",
      "Data columns (total 12 columns):\n",
      " #   Column                Non-Null Count  Dtype  \n",
      "---  ------                --------------  -----  \n",
      " 0   fixed acidity         6497 non-null   float64\n",
      " 1   volatile acidity      6497 non-null   float64\n",
      " 2   citric acid           6497 non-null   float64\n",
      " 3   residual sugar        6497 non-null   float64\n",
      " 4   chlorides             6497 non-null   float64\n",
      " 5   free sulfur dioxide   6497 non-null   float64\n",
      " 6   total sulfur dioxide  6497 non-null   float64\n",
      " 7   density               6497 non-null   float64\n",
      " 8   pH                    6497 non-null   float64\n",
      " 9   sulphates             6497 non-null   float64\n",
      " 10  alcohol               6497 non-null   float64\n",
      " 11  quality               6497 non-null   float64\n",
      "dtypes: float64(12)\n",
      "memory usage: 609.2 KB\n"
     ]
    },
    {
     "data": {
      "text/plain": [
       "(6497, 12)"
      ]
     },
     "execution_count": 2,
     "metadata": {},
     "output_type": "execute_result"
    }
   ],
   "source": [
    "url = \"https://raw.githubusercontent.com/becodeorg/GNT-Arai-2.31/master/content/additional_resources/datasets/Wine%20Quality/wine.csv?token=AUDYSCOBCKJXVFIIH6ZCD4TBIBH2E\"\n",
    "df = pd.read_csv(url)\n",
    "\n",
    "df = df.iloc[: , 1:]\n",
    "df.quality = df.quality.astype(np.float64)\n",
    "\n",
    "df.head()\n",
    "df.info()\n",
    "df.shape\n",
    "\n"
   ]
  },
  {
   "cell_type": "code",
   "execution_count": 3,
   "id": "1ef1d0af",
   "metadata": {},
   "outputs": [],
   "source": [
    "\n",
    "X = df.drop(['quality'],axis=1).values\n",
    "y = df['quality'].values\n",
    "\n",
    "X_train,X_test,y_train,y_test = train_test_split(X,y,random_state=0)\n",
    "\n"
   ]
  },
  {
   "cell_type": "code",
   "execution_count": 4,
   "id": "99c0f0dd",
   "metadata": {},
   "outputs": [
    {
     "name": "stdout",
     "output_type": "stream",
     "text": [
      "(4872, 11)\n",
      "(1625, 11)\n",
      "(4872,)\n",
      "(1625,)\n"
     ]
    }
   ],
   "source": [
    "print(X_train.shape)\n",
    "print(X_test.shape)\n",
    "print(y_train.shape)\n",
    "print(y_test.shape)"
   ]
  },
  {
   "cell_type": "code",
   "execution_count": 5,
   "id": "ec2c13f3",
   "metadata": {},
   "outputs": [],
   "source": [
    "# nb_hidden_neurons = 10\n",
    "nb_classes = len(pd.unique(df['quality']))\n",
    "nb_features= X_train.shape[1]\n",
    "batch_size = 1"
   ]
  },
  {
   "cell_type": "code",
   "execution_count": 20,
   "id": "dab727df",
   "metadata": {},
   "outputs": [],
   "source": [
    "model = Sequential()\n",
    "model.add(Dense(100, input_shape=(11,), activation=\"relu\"))\n",
    "model.add(Dense(100, activation=\"relu\"))\n",
    "model.add(Dense(100))"
   ]
  },
  {
   "cell_type": "code",
   "execution_count": 7,
   "id": "ee0cc851",
   "metadata": {},
   "outputs": [
    {
     "name": "stdout",
     "output_type": "stream",
     "text": [
      "Epoch 1/30\n",
      "122/122 - 0s - loss: 8.5356 - accuracy: 0.3944 - val_loss: 8.2996 - val_accuracy: 0.4205\n",
      "Epoch 2/30\n",
      "122/122 - 0s - loss: 8.3209 - accuracy: 0.4360 - val_loss: 8.2996 - val_accuracy: 0.4246\n",
      "Epoch 3/30\n",
      "122/122 - 0s - loss: 8.3207 - accuracy: 0.4406 - val_loss: 8.2996 - val_accuracy: 0.4246\n",
      "Epoch 4/30\n",
      "122/122 - 0s - loss: 8.3207 - accuracy: 0.4406 - val_loss: 8.2996 - val_accuracy: 0.4246\n",
      "Epoch 5/30\n",
      "122/122 - 0s - loss: 8.3207 - accuracy: 0.4406 - val_loss: 8.2996 - val_accuracy: 0.4246\n",
      "Epoch 6/30\n",
      "122/122 - 0s - loss: 8.3207 - accuracy: 0.4406 - val_loss: 8.2996 - val_accuracy: 0.4246\n",
      "Epoch 7/30\n",
      "122/122 - 0s - loss: 8.3207 - accuracy: 0.4406 - val_loss: 8.2996 - val_accuracy: 0.4246\n",
      "Epoch 8/30\n",
      "122/122 - 0s - loss: 8.3207 - accuracy: 0.4406 - val_loss: 8.2996 - val_accuracy: 0.4246\n",
      "Epoch 9/30\n",
      "122/122 - 0s - loss: 8.3207 - accuracy: 0.4406 - val_loss: 8.2996 - val_accuracy: 0.4246\n",
      "Epoch 10/30\n",
      "122/122 - 0s - loss: 8.3207 - accuracy: 0.4406 - val_loss: 8.2996 - val_accuracy: 0.4246\n",
      "Epoch 11/30\n",
      "122/122 - 0s - loss: 8.3207 - accuracy: 0.4406 - val_loss: 8.2996 - val_accuracy: 0.4246\n",
      "Epoch 12/30\n",
      "122/122 - 0s - loss: 8.3207 - accuracy: 0.4406 - val_loss: 8.2996 - val_accuracy: 0.4246\n",
      "Epoch 13/30\n",
      "122/122 - 0s - loss: 8.3207 - accuracy: 0.4406 - val_loss: 8.2996 - val_accuracy: 0.4246\n",
      "Epoch 14/30\n",
      "122/122 - 0s - loss: 8.3207 - accuracy: 0.4406 - val_loss: 8.2996 - val_accuracy: 0.4246\n",
      "Epoch 15/30\n",
      "122/122 - 0s - loss: 8.3207 - accuracy: 0.4406 - val_loss: 8.2996 - val_accuracy: 0.4246\n",
      "Epoch 16/30\n",
      "122/122 - 0s - loss: 8.3207 - accuracy: 0.4406 - val_loss: 8.2996 - val_accuracy: 0.4246\n",
      "Epoch 17/30\n",
      "122/122 - 0s - loss: 8.3207 - accuracy: 0.4406 - val_loss: 8.2996 - val_accuracy: 0.4246\n",
      "Epoch 18/30\n",
      "122/122 - 0s - loss: 8.3207 - accuracy: 0.4406 - val_loss: 8.2996 - val_accuracy: 0.4246\n",
      "Epoch 19/30\n",
      "122/122 - 0s - loss: 8.3207 - accuracy: 0.4406 - val_loss: 8.2996 - val_accuracy: 0.4246\n",
      "Epoch 20/30\n",
      "122/122 - 0s - loss: 8.3207 - accuracy: 0.4406 - val_loss: 8.2996 - val_accuracy: 0.4246\n",
      "Epoch 21/30\n",
      "122/122 - 0s - loss: 8.3207 - accuracy: 0.4406 - val_loss: 8.2996 - val_accuracy: 0.4246\n",
      "Epoch 22/30\n",
      "122/122 - 0s - loss: 8.3207 - accuracy: 0.4406 - val_loss: 8.2996 - val_accuracy: 0.4246\n",
      "Epoch 23/30\n",
      "122/122 - 0s - loss: 8.3207 - accuracy: 0.4406 - val_loss: 8.2996 - val_accuracy: 0.4246\n",
      "Epoch 24/30\n",
      "122/122 - 0s - loss: 8.3207 - accuracy: 0.4406 - val_loss: 8.2996 - val_accuracy: 0.4246\n",
      "Epoch 25/30\n",
      "122/122 - 0s - loss: 8.3207 - accuracy: 0.4406 - val_loss: 8.2996 - val_accuracy: 0.4246\n",
      "Epoch 26/30\n",
      "122/122 - 0s - loss: 8.3207 - accuracy: 0.4406 - val_loss: 8.2996 - val_accuracy: 0.4246\n",
      "Epoch 27/30\n",
      "122/122 - 0s - loss: 8.3207 - accuracy: 0.4406 - val_loss: 8.2996 - val_accuracy: 0.4246\n",
      "Epoch 28/30\n",
      "122/122 - 0s - loss: 8.3207 - accuracy: 0.4406 - val_loss: 8.2996 - val_accuracy: 0.4246\n",
      "Epoch 29/30\n",
      "122/122 - 0s - loss: 8.3207 - accuracy: 0.4406 - val_loss: 8.2996 - val_accuracy: 0.4246\n",
      "Epoch 30/30\n",
      "122/122 - 0s - loss: 8.3207 - accuracy: 0.4406 - val_loss: 8.2996 - val_accuracy: 0.4246\n"
     ]
    }
   ],
   "source": [
    "learning_rate = 0.0001\n",
    "loss = \"sparse_categorical_crossentropy\"\n",
    "model.compile(optimizer=\"adam\", loss=loss, metrics=['accuracy'])\n",
    "\n",
    "\n",
    "quality = model.fit(X_train, y_train, epochs=30, validation_split = 0.2, verbose=2)"
   ]
  },
  {
   "cell_type": "code",
   "execution_count": 8,
   "id": "9146b44b",
   "metadata": {},
   "outputs": [
    {
     "name": "stdout",
     "output_type": "stream",
     "text": [
      "Model: \"sequential\"\n",
      "_________________________________________________________________\n",
      "Layer (type)                 Output Shape              Param #   \n",
      "=================================================================\n",
      "dense (Dense)                (None, 100)               1200      \n",
      "_________________________________________________________________\n",
      "dense_1 (Dense)              (None, 100)               10100     \n",
      "_________________________________________________________________\n",
      "dense_2 (Dense)              (None, 100)               10100     \n",
      "=================================================================\n",
      "Total params: 21,400\n",
      "Trainable params: 21,400\n",
      "Non-trainable params: 0\n",
      "_________________________________________________________________\n"
     ]
    }
   ],
   "source": [
    "model.summary()"
   ]
  },
  {
   "cell_type": "code",
   "execution_count": 15,
   "id": "163ee2fe",
   "metadata": {},
   "outputs": [
    {
     "name": "stdout",
     "output_type": "stream",
     "text": [
      "{'verbose': 2, 'epochs': 30, 'steps': 122}\n",
      "dict_keys(['loss', 'accuracy', 'val_loss', 'val_accuracy'])\n"
     ]
    }
   ],
   "source": [
    "print(quality.params)\n",
    "print(quality.history.keys())"
   ]
  },
  {
   "cell_type": "code",
   "execution_count": 19,
   "id": "fda6f197",
   "metadata": {},
   "outputs": [
    {
     "data": {
      "image/png": "[encoded data removed]",
      "text/plain": [
       "<Figure size 720x288 with 2 Axes>"
      ]
     },
     "metadata": {
      "needs_background": "light"
     },
     "output_type": "display_data"
    }
   ],
   "source": [
    "loss = quality.history['loss']\n",
    "accuracy = quality.history['accuracy']\n",
    "\n",
    "fig, axs = plt.subplots(nrows=1,ncols=2,figsize=(10,4))\n",
    "axs[0].plot(range(len(loss)), loss)\n",
    "axs[0].set(xlabel=\"Epochs\", ylabel=\"Loss\", title=\"Training loss\")\n",
    "axs[1].plot(range(len(accuracy)), accuracy)\n",
    "axs[1].set(xlabel=\"Epochs\", ylabel=\"Accuracy\", title=\"Training accuracy\")\n",
    "plt.show()"
   ]
  },
  {
   "cell_type": "code",
   "execution_count": 10,
   "id": "4601373a",
   "metadata": {},
   "outputs": [
    {
     "name": "stdout",
     "output_type": "stream",
     "text": [
      "51/51 [==============================] - 0s 646us/step - loss: 8.3492 - accuracy: 0.4332\n",
      "\n",
      "Accuracy on test set is 43.32%\n"
     ]
    }
   ],
   "source": [
    "predictions = model.predict(X_test)\n",
    "\n",
    "results = model.evaluate(X_test, y_test)\n",
    "print(f\"\\nAccuracy on test set is {results[1]*100:.2f}%\")"
   ]
  },
  {
   "cell_type": "code",
   "execution_count": null,
   "id": "b4ab3d5a",
   "metadata": {},
   "outputs": [],
   "source": []
  }
 ],
 "metadata": {
  "kernelspec": {
   "display_name": "tf",
   "language": "python",
   "name": "tf"
  },
  "language_info": {
   "codemirror_mode": {
    "name": "ipython",
    "version": 3
   },
   "file_extension": ".py",
   "mimetype": "text/x-python",
   "name": "python",
   "nbconvert_exporter": "python",
   "pygments_lexer": "ipython3",
   "version": "3.7.11"
  }
 },
 "nbformat": 4,
 "nbformat_minor": 5
}
