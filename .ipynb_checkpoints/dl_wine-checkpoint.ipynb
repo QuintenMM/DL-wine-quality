{
 "cells": [
  {
   "cell_type": "code",
   "execution_count": 218,
   "id": "3ae9a6a8",
   "metadata": {},
   "outputs": [],
   "source": [
    "import seaborn as sns\n",
    "import pandas as pd\n",
    "import numpy as np\n",
    "import itertools\n",
    "\n",
    "from scipy import stats\n",
    "import plotly.graph_objects as go\n",
    "from plotly.subplots import make_subplots\n",
    "\n",
    "from matplotlib import pyplot as plt\n",
    "\n",
    "\n",
    "import tensorflow as tf\n",
    "from tensorflow import keras\n",
    "from tensorflow.keras.layers import Dense\n",
    "from tensorflow.keras.models import Sequential\n",
    "from tensorflow.keras.callbacks import EarlyStopping\n",
    "from tensorflow.keras.metrics import categorical_crossentropy\n",
    "from tensorflow.keras.layers.experimental import preprocessing\n",
    "from tensorflow.keras.layers import Activation, Dense, LeakyReLU # Type of layers\n",
    "\n",
    "\n",
    "from sklearn.model_selection import train_test_split\n",
    "from sklearn.preprocessing import MinMaxScaler\n",
    "from sklearn.metrics import confusion_matrix\n",
    "\n",
    "\n",
    "\n"
   ]
  },
  {
   "cell_type": "code",
   "execution_count": 219,
   "id": "ccee527d",
   "metadata": {},
   "outputs": [],
   "source": [
    "from sklearn.metrics import classification_report\n",
    "from sklearn.model_selection import RandomizedSearchCV, GridSearchCV\n",
    "from imblearn.combine import SMOTEENN\n",
    "from imblearn.under_sampling import NearMiss\n",
    "from collections import Counter\n"
   ]
  },
  {
   "cell_type": "code",
   "execution_count": 220,
   "id": "aabf0894",
   "metadata": {},
   "outputs": [
    {
     "name": "stdout",
     "output_type": "stream",
     "text": [
      "0    5220\n",
      "1    1277\n",
      "Name: quality, dtype: int64\n",
      "<class 'pandas.core.frame.DataFrame'>\n",
      "Int64Index: 6497 entries, 0 to 6496\n",
      "Data columns (total 12 columns):\n",
      " #   Column                Non-Null Count  Dtype  \n",
      "---  ------                --------------  -----  \n",
      " 0   fixed acidity         6497 non-null   float64\n",
      " 1   volatile acidity      6497 non-null   float64\n",
      " 2   citric acid           6497 non-null   float64\n",
      " 3   residual sugar        6497 non-null   float64\n",
      " 4   chlorides             6497 non-null   float64\n",
      " 5   free sulfur dioxide   6497 non-null   float64\n",
      " 6   total sulfur dioxide  6497 non-null   float64\n",
      " 7   density               6497 non-null   float64\n",
      " 8   pH                    6497 non-null   float64\n",
      " 9   sulphates             6497 non-null   float64\n",
      " 10  alcohol               6497 non-null   float64\n",
      " 11  quality               6497 non-null   int64  \n",
      "dtypes: float64(11), int64(1)\n",
      "memory usage: 659.9 KB\n"
     ]
    }
   ],
   "source": [
    "url = \"https://raw.githubusercontent.com/becodeorg/GNT-Arai-2.31/master/content/additional_resources/datasets/Wine%20Quality/wine.csv?token=AUDYSCOBCKJXVFIIH6ZCD4TBIBH2E\"\n",
    "df = pd.read_csv(url)\n",
    "df = df.drop_duplicates()\n",
    "df = df.iloc[: , 1:]\n",
    "\n",
    "num_list = [0,1,2,3,4,5,6,7,8,9,10]\n",
    "for number in num_list:\n",
    "    if number < 7:\n",
    "        df['quality'] = df['quality'].replace([number],0)\n",
    "    else:\n",
    "        df['quality'] = df['quality'].replace([number],1)\n",
    "  \n",
    "print(df['quality'].value_counts())\n",
    "\n",
    "\n",
    "X = df.drop(['quality'],axis=1).values\n",
    "y = df['quality'].values\n",
    "\n",
    "# df.head()\n",
    "df.info()\n",
    "# df.shape\n",
    "\n"
   ]
  },
  {
   "cell_type": "code",
   "execution_count": 221,
   "id": "e07a76bd",
   "metadata": {},
   "outputs": [],
   "source": [
    "# (df-df.min())/(df.max()-df.min())\n",
    "# (df-df.mean())/df.std()"
   ]
  },
  {
   "cell_type": "code",
   "execution_count": 79,
   "id": "90f53c43",
   "metadata": {},
   "outputs": [
    {
     "name": "stdout",
     "output_type": "stream",
     "text": [
      "Original dataset shape Counter({0: 5220, 1: 1277})\n",
      "Resampled dataset shape Counter({0: 1277, 1: 1277})\n"
     ]
    }
   ],
   "source": [
    "\n",
    "# nm = NearMiss()\n",
    "# X_res,y_res=nm.fit_resample(X,y)\n",
    "\n",
    "# print('Original dataset shape {}'.format(Counter(y)))\n",
    "# print('Resampled dataset shape {}'.format(Counter(y_res)))"
   ]
  },
  {
   "cell_type": "code",
   "execution_count": 63,
   "id": "b062f4ff",
   "metadata": {},
   "outputs": [
    {
     "name": "stdout",
     "output_type": "stream",
     "text": [
      "Original dataset shape Counter({0: 1277, 1: 1277})\n",
      "Resampled dataset shape Counter({0: 1277, 1: 1277})\n"
     ]
    }
   ],
   "source": [
    "# from imblearn.over_sampling import RandomOverSampler\n",
    "\n",
    "# os =  RandomOverSampler()\n",
    "# X_train_res, y_train_res = os.fit_resample(X, y)\n",
    "\n",
    "# print('Original dataset shape {}'.format(Counter(y)))\n",
    "# print('Resampled dataset shape {}'.format(Counter(y_res)))"
   ]
  },
  {
   "cell_type": "code",
   "execution_count": 207,
   "id": "ef95b48f",
   "metadata": {},
   "outputs": [
    {
     "name": "stdout",
     "output_type": "stream",
     "text": [
      "Original dataset shape Counter({0: 5220, 1: 1277})\n",
      "Resampled dataset shape Counter({0: 5158, 1: 5158})\n"
     ]
    }
   ],
   "source": [
    "# from imblearn.combine import SMOTETomek\n",
    "\n",
    "\n",
    "# smk = SMOTETomek()\n",
    "# X_res,y_res=smk.fit_resample(X,y)\n",
    "\n",
    "# print('Original dataset shape {}'.format(Counter(y)))\n",
    "# print('Resampled dataset shape {}'.format(Counter(y_res)))"
   ]
  },
  {
   "cell_type": "code",
   "execution_count": 222,
   "id": "cd7e34eb",
   "metadata": {},
   "outputs": [],
   "source": [
    "# X, y = X_res, y_res \n"
   ]
  },
  {
   "cell_type": "code",
   "execution_count": null,
   "id": "89f188d9",
   "metadata": {},
   "outputs": [],
   "source": []
  },
  {
   "cell_type": "code",
   "execution_count": 223,
   "id": "95c0e7a1",
   "metadata": {},
   "outputs": [
    {
     "name": "stdout",
     "output_type": "stream",
     "text": [
      "15168 \n",
      " 30133\n",
      "(5197, 11) \n",
      " (1300, 11) \n",
      " (5197, 1) \n",
      " (1300, 1)\n"
     ]
    }
   ],
   "source": [
    "\n",
    "for number in y:\n",
    "    if number == 1:\n",
    "        one += 1\n",
    "    else:\n",
    "        zero += 1\n",
    "print(one,\"\\n\",zero) \n",
    "\n",
    "X_train,X_test,y_train,y_test = train_test_split(X,y,random_state=42,test_size=0.2, shuffle=True)\n",
    "\n",
    "scaler_x = MinMaxScaler().fit(X_train)\n",
    "X_train = scaler_x.transform(X_train)\n",
    "X_test = scaler_x.transform(X_test)\n",
    "\n",
    "scaler_y = MinMaxScaler().fit(y_train.reshape(-1,1))\n",
    "y_train = scaler_y.transform(y_train.reshape(-1,1))\n",
    "y_test = scaler_y.transform(y_test.reshape(-1,1))\n",
    "\n",
    "\n",
    "\n",
    "print(X_train.shape,\"\\n\",X_test.shape,\"\\n\", y_train.shape,\"\\n\", y_test.shape)\n",
    "\n"
   ]
  },
  {
   "cell_type": "code",
   "execution_count": 162,
   "id": "bcec98dd",
   "metadata": {},
   "outputs": [
    {
     "name": "stdout",
     "output_type": "stream",
     "text": [
      "Number of training samples: 5198\n",
      "Number of validation samples: 1299\n"
     ]
    }
   ],
   "source": [
    "# num_val_samples = int(len(X) * 0.2)\n",
    "# train_features = X[:-num_val_samples]\n",
    "# train_targets = y[:-num_val_samples]\n",
    "# val_features = X[-num_val_samples:]\n",
    "# val_targets = y[-num_val_samples:]\n",
    "\n",
    "\n",
    "# print(\"Number of training samples:\", len(train_features))\n",
    "# print(\"Number of validation samples:\", len(val_features))"
   ]
  },
  {
   "cell_type": "code",
   "execution_count": 224,
   "id": "1cc123c8",
   "metadata": {},
   "outputs": [
    {
     "name": "stdout",
     "output_type": "stream",
     "text": [
      "1031 \n",
      " 4167\n"
     ]
    }
   ],
   "source": [
    "one = 0\n",
    "zero = 0\n",
    "for number in train_targets:\n",
    "    if number == 1:\n",
    "        one += 1\n",
    "    else:\n",
    "        zero += 1\n",
    "print(one,\"\\n\",zero)        "
   ]
  },
  {
   "cell_type": "code",
   "execution_count": 225,
   "id": "3c7d8abb",
   "metadata": {},
   "outputs": [
    {
     "name": "stdout",
     "output_type": "stream",
     "text": [
      "Number of positive samples in training data: 4167 (80.17% of total)\n"
     ]
    }
   ],
   "source": [
    "# counts = np.bincount(train_targets[:, 0])\n",
    "print(\n",
    "    \"Number of positive samples in training data: {} ({:.2f}% of total)\".format(\n",
    "        zero, 100 * float(zero) / len(train_targets)\n",
    "    )\n",
    ")\n",
    "\n",
    "weight_for_0 = 1.0 / zero\n",
    "weight_for_1 = 1.0 / one"
   ]
  },
  {
   "cell_type": "code",
   "execution_count": 226,
   "id": "611743db",
   "metadata": {},
   "outputs": [],
   "source": [
    "# mean = np.mean(train_features, axis=0)\n",
    "# train_features -= mean\n",
    "# val_features -= mean\n",
    "# std = np.std(train_features, axis=0)\n",
    "# train_features /= std\n",
    "# val_features /= std"
   ]
  },
  {
   "cell_type": "code",
   "execution_count": 227,
   "id": "e4f9d8f5",
   "metadata": {},
   "outputs": [
    {
     "name": "stdout",
     "output_type": "stream",
     "text": [
      "Model: \"sequential_18\"\n",
      "_________________________________________________________________\n",
      "Layer (type)                 Output Shape              Param #   \n",
      "=================================================================\n",
      "dense_70 (Dense)             (None, 11)                132       \n",
      "_________________________________________________________________\n",
      "dense_71 (Dense)             (None, 11)                132       \n",
      "_________________________________________________________________\n",
      "dense_72 (Dense)             (None, 1)                 12        \n",
      "=================================================================\n",
      "Total params: 276\n",
      "Trainable params: 276\n",
      "Non-trainable params: 0\n",
      "_________________________________________________________________\n"
     ]
    }
   ],
   "source": [
    "\n",
    "model = keras.Sequential(\n",
    "    [\n",
    "        keras.layers.Dense(\n",
    "            11, activation=\"relu\", input_shape=(train_features.shape[-1],)\n",
    "        ),\n",
    "        keras.layers.Dense(11, activation=\"relu\"),\n",
    "        \n",
    "#         keras.layers.Dense(20, activation=\"relu\"),\n",
    "        \n",
    "        keras.layers.Dense(1, activation=\"sigmoid\"),\n",
    "    ]\n",
    ")\n",
    "model.summary()\n"
   ]
  },
  {
   "cell_type": "code",
   "execution_count": null,
   "id": "b33c0d36",
   "metadata": {},
   "outputs": [
    {
     "name": "stdout",
     "output_type": "stream",
     "text": [
      "Epoch 1/100\n",
      "INFO:tensorflow:Assets written to: version/assets\n",
      "18/18 - 0s - loss: 0.5777 - accuracy: 0.7312 - val_loss: 0.5092 - val_accuracy: 0.8062\n",
      "Epoch 2/100\n",
      "INFO:tensorflow:Assets written to: version/assets\n",
      "18/18 - 0s - loss: 0.5060 - accuracy: 0.8028 - val_loss: 0.4913 - val_accuracy: 0.8062\n",
      "Epoch 3/100\n",
      "INFO:tensorflow:Assets written to: version/assets\n",
      "18/18 - 0s - loss: 0.4899 - accuracy: 0.8028 - val_loss: 0.4765 - val_accuracy: 0.8062\n",
      "Epoch 4/100\n",
      "INFO:tensorflow:Assets written to: version/assets\n",
      "18/18 - 0s - loss: 0.4743 - accuracy: 0.8028 - val_loss: 0.4580 - val_accuracy: 0.8062\n",
      "Epoch 5/100\n",
      "INFO:tensorflow:Assets written to: version/assets\n",
      "18/18 - 0s - loss: 0.4511 - accuracy: 0.8028 - val_loss: 0.4292 - val_accuracy: 0.8062\n",
      "Epoch 6/100\n",
      "INFO:tensorflow:Assets written to: version/assets\n",
      "18/18 - 0s - loss: 0.4270 - accuracy: 0.8028 - val_loss: 0.4124 - val_accuracy: 0.8062\n",
      "Epoch 7/100\n",
      "INFO:tensorflow:Assets written to: version/assets\n",
      "18/18 - 0s - loss: 0.4132 - accuracy: 0.8039 - val_loss: 0.4047 - val_accuracy: 0.8123\n",
      "Epoch 8/100\n",
      "INFO:tensorflow:Assets written to: version/assets\n",
      "18/18 - 0s - loss: 0.4082 - accuracy: 0.8057 - val_loss: 0.4008 - val_accuracy: 0.8177\n",
      "Epoch 9/100\n",
      "INFO:tensorflow:Assets written to: version/assets\n",
      "18/18 - 0s - loss: 0.4044 - accuracy: 0.8093 - val_loss: 0.3978 - val_accuracy: 0.8169\n",
      "Epoch 10/100\n",
      "INFO:tensorflow:Assets written to: version/assets\n",
      "18/18 - 0s - loss: 0.4016 - accuracy: 0.8101 - val_loss: 0.3972 - val_accuracy: 0.8185\n",
      "Epoch 11/100\n",
      "INFO:tensorflow:Assets written to: version/assets\n",
      "18/18 - 0s - loss: 0.4004 - accuracy: 0.8151 - val_loss: 0.3960 - val_accuracy: 0.8192\n",
      "Epoch 12/100\n",
      "INFO:tensorflow:Assets written to: version/assets\n",
      "18/18 - 0s - loss: 0.3976 - accuracy: 0.8180 - val_loss: 0.3927 - val_accuracy: 0.8146\n",
      "Epoch 13/100\n",
      "INFO:tensorflow:Assets written to: version/assets\n",
      "18/18 - 0s - loss: 0.3970 - accuracy: 0.8147 - val_loss: 0.3907 - val_accuracy: 0.8238\n",
      "Epoch 14/100\n",
      "INFO:tensorflow:Assets written to: version/assets\n",
      "18/18 - 0s - loss: 0.3952 - accuracy: 0.8178 - val_loss: 0.3898 - val_accuracy: 0.8192\n",
      "Epoch 15/100\n",
      "INFO:tensorflow:Assets written to: version/assets\n",
      "18/18 - 0s - loss: 0.3940 - accuracy: 0.8178 - val_loss: 0.3889 - val_accuracy: 0.8238\n",
      "Epoch 16/100\n",
      "INFO:tensorflow:Assets written to: version/assets\n",
      "18/18 - 0s - loss: 0.3925 - accuracy: 0.8143 - val_loss: 0.3955 - val_accuracy: 0.8231\n",
      "Epoch 17/100\n",
      "INFO:tensorflow:Assets written to: version/assets\n",
      "18/18 - 0s - loss: 0.3960 - accuracy: 0.8168 - val_loss: 0.3874 - val_accuracy: 0.8238\n",
      "Epoch 18/100\n",
      "INFO:tensorflow:Assets written to: version/assets\n",
      "18/18 - 0s - loss: 0.3924 - accuracy: 0.8176 - val_loss: 0.3866 - val_accuracy: 0.8238\n",
      "Epoch 19/100\n",
      "INFO:tensorflow:Assets written to: version/assets\n",
      "18/18 - 0s - loss: 0.3922 - accuracy: 0.8185 - val_loss: 0.3886 - val_accuracy: 0.8231\n",
      "Epoch 20/100\n",
      "INFO:tensorflow:Assets written to: version/assets\n",
      "18/18 - 0s - loss: 0.3941 - accuracy: 0.8157 - val_loss: 0.3883 - val_accuracy: 0.8262\n",
      "Epoch 21/100\n",
      "INFO:tensorflow:Assets written to: version/assets\n",
      "18/18 - 0s - loss: 0.3926 - accuracy: 0.8187 - val_loss: 0.3851 - val_accuracy: 0.8254\n",
      "Epoch 22/100\n",
      "INFO:tensorflow:Assets written to: version/assets\n",
      "18/18 - 0s - loss: 0.3928 - accuracy: 0.8139 - val_loss: 0.3854 - val_accuracy: 0.8269\n",
      "Epoch 23/100\n",
      "INFO:tensorflow:Assets written to: version/assets\n",
      "18/18 - 0s - loss: 0.3892 - accuracy: 0.8191 - val_loss: 0.3843 - val_accuracy: 0.8254\n",
      "Epoch 24/100\n",
      "INFO:tensorflow:Assets written to: version/assets\n",
      "18/18 - 0s - loss: 0.3901 - accuracy: 0.8187 - val_loss: 0.3863 - val_accuracy: 0.8277\n",
      "Epoch 25/100\n",
      "INFO:tensorflow:Assets written to: version/assets\n",
      "18/18 - 0s - loss: 0.3897 - accuracy: 0.8207 - val_loss: 0.3844 - val_accuracy: 0.8262\n",
      "Epoch 26/100\n",
      "INFO:tensorflow:Assets written to: version/assets\n",
      "18/18 - 0s - loss: 0.3889 - accuracy: 0.8172 - val_loss: 0.3843 - val_accuracy: 0.8269\n",
      "Epoch 27/100\n",
      "INFO:tensorflow:Assets written to: version/assets\n",
      "18/18 - 0s - loss: 0.3880 - accuracy: 0.8176 - val_loss: 0.3830 - val_accuracy: 0.8269\n",
      "Epoch 28/100\n",
      "INFO:tensorflow:Assets written to: version/assets\n",
      "18/18 - 0s - loss: 0.3883 - accuracy: 0.8189 - val_loss: 0.3823 - val_accuracy: 0.8277\n",
      "Epoch 29/100\n",
      "INFO:tensorflow:Assets written to: version/assets\n",
      "18/18 - 0s - loss: 0.3869 - accuracy: 0.8230 - val_loss: 0.3853 - val_accuracy: 0.8262\n",
      "Epoch 30/100\n",
      "INFO:tensorflow:Assets written to: version/assets\n",
      "18/18 - 0s - loss: 0.3875 - accuracy: 0.8216 - val_loss: 0.3831 - val_accuracy: 0.8277\n",
      "Epoch 31/100\n",
      "INFO:tensorflow:Assets written to: version/assets\n",
      "18/18 - 0s - loss: 0.3875 - accuracy: 0.8243 - val_loss: 0.3814 - val_accuracy: 0.8269\n",
      "Epoch 32/100\n",
      "INFO:tensorflow:Assets written to: version/assets\n",
      "18/18 - 0s - loss: 0.3870 - accuracy: 0.8199 - val_loss: 0.3829 - val_accuracy: 0.8292\n",
      "Epoch 33/100\n",
      "INFO:tensorflow:Assets written to: version/assets\n",
      "18/18 - 0s - loss: 0.3894 - accuracy: 0.8193 - val_loss: 0.3810 - val_accuracy: 0.8277\n",
      "Epoch 34/100\n",
      "INFO:tensorflow:Assets written to: version/assets\n",
      "18/18 - 0s - loss: 0.3853 - accuracy: 0.8245 - val_loss: 0.3944 - val_accuracy: 0.8169\n",
      "Epoch 35/100\n",
      "INFO:tensorflow:Assets written to: version/assets\n",
      "18/18 - 0s - loss: 0.3928 - accuracy: 0.8139 - val_loss: 0.3870 - val_accuracy: 0.8223\n",
      "Epoch 36/100\n",
      "INFO:tensorflow:Assets written to: version/assets\n",
      "18/18 - 0s - loss: 0.3875 - accuracy: 0.8232 - val_loss: 0.3804 - val_accuracy: 0.8292\n",
      "Epoch 37/100\n",
      "INFO:tensorflow:Assets written to: version/assets\n",
      "18/18 - 0s - loss: 0.3872 - accuracy: 0.8205 - val_loss: 0.3913 - val_accuracy: 0.8192\n",
      "Epoch 38/100\n",
      "INFO:tensorflow:Assets written to: version/assets\n",
      "18/18 - 1s - loss: 0.3885 - accuracy: 0.8197 - val_loss: 0.3821 - val_accuracy: 0.8292\n",
      "Epoch 39/100\n",
      "INFO:tensorflow:Assets written to: version/assets\n",
      "18/18 - 0s - loss: 0.3840 - accuracy: 0.8241 - val_loss: 0.3797 - val_accuracy: 0.8292\n",
      "Epoch 40/100\n",
      "INFO:tensorflow:Assets written to: version/assets\n",
      "18/18 - 0s - loss: 0.3830 - accuracy: 0.8261 - val_loss: 0.3789 - val_accuracy: 0.8262\n",
      "Epoch 41/100\n",
      "INFO:tensorflow:Assets written to: version/assets\n",
      "18/18 - 0s - loss: 0.3832 - accuracy: 0.8234 - val_loss: 0.3792 - val_accuracy: 0.8300\n",
      "Epoch 42/100\n",
      "INFO:tensorflow:Assets written to: version/assets\n",
      "18/18 - 0s - loss: 0.3834 - accuracy: 0.8232 - val_loss: 0.3789 - val_accuracy: 0.8277\n",
      "Epoch 43/100\n",
      "INFO:tensorflow:Assets written to: version/assets\n",
      "18/18 - 0s - loss: 0.3822 - accuracy: 0.8243 - val_loss: 0.3783 - val_accuracy: 0.8292\n",
      "Epoch 44/100\n",
      "INFO:tensorflow:Assets written to: version/assets\n",
      "18/18 - 0s - loss: 0.3816 - accuracy: 0.8224 - val_loss: 0.3798 - val_accuracy: 0.8238\n",
      "Epoch 45/100\n",
      "INFO:tensorflow:Assets written to: version/assets\n",
      "18/18 - 0s - loss: 0.3844 - accuracy: 0.8243 - val_loss: 0.3800 - val_accuracy: 0.8292\n",
      "Epoch 46/100\n",
      "INFO:tensorflow:Assets written to: version/assets\n",
      "18/18 - 0s - loss: 0.3815 - accuracy: 0.8224 - val_loss: 0.3812 - val_accuracy: 0.8292\n",
      "Epoch 47/100\n",
      "INFO:tensorflow:Assets written to: version/assets\n",
      "18/18 - 1s - loss: 0.3851 - accuracy: 0.8207 - val_loss: 0.3777 - val_accuracy: 0.8285\n",
      "Epoch 48/100\n",
      "INFO:tensorflow:Assets written to: version/assets\n",
      "18/18 - 0s - loss: 0.3830 - accuracy: 0.8220 - val_loss: 0.3764 - val_accuracy: 0.8262\n",
      "Epoch 49/100\n",
      "INFO:tensorflow:Assets written to: version/assets\n",
      "18/18 - 0s - loss: 0.3795 - accuracy: 0.8257 - val_loss: 0.3812 - val_accuracy: 0.8292\n",
      "Epoch 50/100\n",
      "INFO:tensorflow:Assets written to: version/assets\n",
      "18/18 - 0s - loss: 0.3806 - accuracy: 0.8251 - val_loss: 0.3766 - val_accuracy: 0.8269\n",
      "Epoch 51/100\n",
      "INFO:tensorflow:Assets written to: version/assets\n",
      "18/18 - 0s - loss: 0.3772 - accuracy: 0.8262 - val_loss: 0.3764 - val_accuracy: 0.8285\n",
      "Epoch 52/100\n",
      "INFO:tensorflow:Assets written to: version/assets\n",
      "18/18 - 0s - loss: 0.3774 - accuracy: 0.8232 - val_loss: 0.3780 - val_accuracy: 0.8285\n",
      "Epoch 53/100\n",
      "INFO:tensorflow:Assets written to: version/assets\n",
      "18/18 - 0s - loss: 0.3825 - accuracy: 0.8218 - val_loss: 0.3912 - val_accuracy: 0.8177\n",
      "Epoch 54/100\n",
      "INFO:tensorflow:Assets written to: version/assets\n",
      "18/18 - 0s - loss: 0.3826 - accuracy: 0.8241 - val_loss: 0.3783 - val_accuracy: 0.8246\n",
      "Epoch 55/100\n",
      "INFO:tensorflow:Assets written to: version/assets\n",
      "18/18 - 0s - loss: 0.3807 - accuracy: 0.8280 - val_loss: 0.3915 - val_accuracy: 0.8215\n"
     ]
    },
    {
     "name": "stdout",
     "output_type": "stream",
     "text": [
      "Epoch 56/100\n",
      "INFO:tensorflow:Assets written to: version/assets\n",
      "18/18 - 0s - loss: 0.3819 - accuracy: 0.8274 - val_loss: 0.3740 - val_accuracy: 0.8246\n",
      "Epoch 57/100\n",
      "INFO:tensorflow:Assets written to: version/assets\n",
      "18/18 - 1s - loss: 0.3754 - accuracy: 0.8266 - val_loss: 0.3768 - val_accuracy: 0.8308\n",
      "Epoch 58/100\n",
      "INFO:tensorflow:Assets written to: version/assets\n",
      "18/18 - 0s - loss: 0.3789 - accuracy: 0.8243 - val_loss: 0.3734 - val_accuracy: 0.8254\n",
      "Epoch 59/100\n",
      "INFO:tensorflow:Assets written to: version/assets\n",
      "18/18 - 0s - loss: 0.3744 - accuracy: 0.8236 - val_loss: 0.3755 - val_accuracy: 0.8308\n",
      "Epoch 60/100\n",
      "INFO:tensorflow:Assets written to: version/assets\n",
      "18/18 - 0s - loss: 0.3751 - accuracy: 0.8274 - val_loss: 0.3741 - val_accuracy: 0.8231\n",
      "Epoch 61/100\n",
      "INFO:tensorflow:Assets written to: version/assets\n",
      "18/18 - 0s - loss: 0.3739 - accuracy: 0.8245 - val_loss: 0.3729 - val_accuracy: 0.8262\n",
      "Epoch 62/100\n",
      "INFO:tensorflow:Assets written to: version/assets\n",
      "18/18 - 0s - loss: 0.3749 - accuracy: 0.8257 - val_loss: 0.3728 - val_accuracy: 0.8308\n",
      "Epoch 63/100\n",
      "INFO:tensorflow:Assets written to: version/assets\n",
      "18/18 - 0s - loss: 0.3718 - accuracy: 0.8270 - val_loss: 0.3718 - val_accuracy: 0.8300\n",
      "Epoch 64/100\n",
      "INFO:tensorflow:Assets written to: version/assets\n",
      "18/18 - 0s - loss: 0.3720 - accuracy: 0.8241 - val_loss: 0.3712 - val_accuracy: 0.8269\n",
      "Epoch 65/100\n",
      "INFO:tensorflow:Assets written to: version/assets\n",
      "18/18 - 0s - loss: 0.3738 - accuracy: 0.8266 - val_loss: 0.3724 - val_accuracy: 0.8277\n",
      "Epoch 66/100\n",
      "INFO:tensorflow:Assets written to: version/assets\n",
      "18/18 - 0s - loss: 0.3708 - accuracy: 0.8266 - val_loss: 0.3748 - val_accuracy: 0.8269\n",
      "Epoch 67/100\n",
      "INFO:tensorflow:Assets written to: version/assets\n",
      "18/18 - 0s - loss: 0.3721 - accuracy: 0.8241 - val_loss: 0.3735 - val_accuracy: 0.8300\n",
      "Epoch 68/100\n",
      "INFO:tensorflow:Assets written to: version/assets\n",
      "18/18 - 0s - loss: 0.3707 - accuracy: 0.8278 - val_loss: 0.3727 - val_accuracy: 0.8246\n",
      "Epoch 69/100\n",
      "INFO:tensorflow:Assets written to: version/assets\n",
      "18/18 - 0s - loss: 0.3712 - accuracy: 0.8309 - val_loss: 0.3708 - val_accuracy: 0.8215\n",
      "Epoch 70/100\n",
      "INFO:tensorflow:Assets written to: version/assets\n",
      "18/18 - 0s - loss: 0.3695 - accuracy: 0.8251 - val_loss: 0.3755 - val_accuracy: 0.8269\n",
      "Epoch 71/100\n",
      "INFO:tensorflow:Assets written to: version/assets\n",
      "18/18 - 0s - loss: 0.3690 - accuracy: 0.8261 - val_loss: 0.3701 - val_accuracy: 0.8262\n",
      "Epoch 72/100\n",
      "INFO:tensorflow:Assets written to: version/assets\n",
      "18/18 - 0s - loss: 0.3694 - accuracy: 0.8282 - val_loss: 0.3772 - val_accuracy: 0.8231\n",
      "Epoch 73/100\n",
      "INFO:tensorflow:Assets written to: version/assets\n",
      "18/18 - 0s - loss: 0.3696 - accuracy: 0.8270 - val_loss: 0.3710 - val_accuracy: 0.8269\n",
      "Epoch 74/100\n",
      "INFO:tensorflow:Assets written to: version/assets\n",
      "18/18 - 0s - loss: 0.3701 - accuracy: 0.8284 - val_loss: 0.3739 - val_accuracy: 0.8262\n",
      "Epoch 75/100\n",
      "INFO:tensorflow:Assets written to: version/assets\n",
      "18/18 - 0s - loss: 0.3699 - accuracy: 0.8261 - val_loss: 0.3698 - val_accuracy: 0.8238\n",
      "Epoch 76/100\n",
      "INFO:tensorflow:Assets written to: version/assets\n",
      "18/18 - 0s - loss: 0.3687 - accuracy: 0.8293 - val_loss: 0.3690 - val_accuracy: 0.8238\n",
      "Epoch 77/100\n"
     ]
    }
   ],
   "source": [
    "\n",
    "model.compile(\n",
    "    optimizer=keras.optimizers.Adam(1e-2), loss=\"binary_crossentropy\", metrics=['accuracy']\n",
    ")\n",
    "\n",
    "callbacks = [keras.callbacks.ModelCheckpoint(\"version\")]\n",
    "class_weight = {0: weight_for_0, 1: weight_for_1}\n",
    "\n",
    "quality = model.fit(\n",
    "    X_train,\n",
    "    y_train,\n",
    "    batch_size=300,\n",
    "    epochs=100,\n",
    "    verbose=2,\n",
    "    callbacks=callbacks,\n",
    "    validation_data=(X_test, y_test)\n",
    "#     ,class_weight=class_weight,\n",
    ")\n"
   ]
  },
  {
   "cell_type": "code",
   "execution_count": 212,
   "id": "4611baf9",
   "metadata": {},
   "outputs": [
    {
     "name": "stdout",
     "output_type": "stream",
     "text": [
      "65/65 [==============================] - 0s 559us/step - loss: 0.3844 - accuracy: 0.8251\n",
      "\n",
      "Accuracy on test set is 82.51%\n"
     ]
    }
   ],
   "source": [
    "predictions = model.predict(X_test)\n",
    "\n",
    "results = model.evaluate(X_test, y_test)\n",
    "print(f\"\\nAccuracy on test set is {results[1]*100:.2f}%\")"
   ]
  },
  {
   "cell_type": "code",
   "execution_count": 213,
   "id": "11b7372e",
   "metadata": {},
   "outputs": [
    {
     "data": {
      "image/png": "[encoded data removed]",
      "text/plain": [
       "<Figure size 720x288 with 2 Axes>"
      ]
     },
     "metadata": {
      "needs_background": "light"
     },
     "output_type": "display_data"
    }
   ],
   "source": [
    "def plot_loss_accuracy(quality):\n",
    "    loss = quality.history['loss']\n",
    "    accuracy = quality.history['accuracy']\n",
    "    fig, axs = plt.subplots(nrows=1, ncols=2, figsize=(10, 4))\n",
    "    axs[0].plot(range(len(loss)), loss)\n",
    "    axs[0].set(xlabel=\"Epochs\", ylabel=\"Loss\", title=\"Training loss\")\n",
    "    axs[1].plot(range(len(accuracy)), accuracy)\n",
    "    axs[1].set(xlabel=\"Epochs\", ylabel=\"Accuracy\", title=\"Training accuracy\")\n",
    "    plt.show()\n",
    "plot_loss_accuracy(quality)\n",
    "# plot.savefig('visuals/loss_accuracy.png')"
   ]
  },
  {
   "cell_type": "code",
   "execution_count": 214,
   "id": "e664e93d",
   "metadata": {},
   "outputs": [
    {
     "data": {
      "image/png": "[encoded data removed]",
      "text/plain": [
       "<Figure size 432x288 with 1 Axes>"
      ]
     },
     "metadata": {
      "needs_background": "light"
     },
     "output_type": "display_data"
    }
   ],
   "source": [
    "def plot_loss(quality):\n",
    "  plt.plot(quality.history['loss'], label='loss')\n",
    "  plt.plot(quality.history['val_loss'], label='val_loss')\n",
    "#   plt.ylim([0, 10])\n",
    "  plt.xlabel('Epoch')\n",
    "  plt.ylabel('Error')\n",
    "  plt.legend()\n",
    "  plt.grid(True)\n",
    "plot_loss(quality)\n",
    "# plot.savefig('visuals/plot_loss.png')"
   ]
  },
  {
   "cell_type": "code",
   "execution_count": 215,
   "id": "80b49fb8",
   "metadata": {},
   "outputs": [
    {
     "data": {
      "image/png": "[encoded data removed]",
      "text/plain": [
       "<Figure size 432x288 with 2 Axes>"
      ]
     },
     "metadata": {
      "needs_background": "light"
     },
     "output_type": "display_data"
    }
   ],
   "source": [
    "predictions = model.predict(x=X_test, batch_size=100)\n",
    "rounded_predictions = np.argmax(predictions, axis=-1)\n",
    "cm = confusion_matrix(y_test,rounded_predictions)\n",
    "\n",
    "plot_labels = [\"bad\",\"good\"]\n",
    "\n",
    "plt.imshow(cm, interpolation='nearest', cmap=plt.cm.coolwarm)\n",
    "plt.title(\"Confusion matrix\")\n",
    "plt.colorbar()\n",
    "tick_marks = np.arange(len(plot_labels))\n",
    "plt.xticks(tick_marks, plot_labels, rotation=45)\n",
    "plt.yticks(tick_marks, plot_labels)\n",
    "\n",
    "thresh = y_test.max() / 2.\n",
    "for i, j in itertools.product(range(cm.shape[0]), range(cm.shape[1])):\n",
    "    plt.text(j, i, cm[i, j],\n",
    "             horizontalalignment=\"center\",\n",
    "             color=\"white\" if cm[i, j] > thresh else \"black\")\n",
    "\n",
    "plt.tight_layout()\n",
    "plt.ylabel('True label')\n",
    "plt.xlabel('Predicted label')\n",
    "plt.show()\n",
    "# plt.savefig('visuals/cm.png')"
   ]
  },
  {
   "cell_type": "code",
   "execution_count": null,
   "id": "07211942",
   "metadata": {},
   "outputs": [],
   "source": []
  }
 ],
 "metadata": {
  "kernelspec": {
   "display_name": "tf",
   "language": "python",
   "name": "tf"
  },
  "language_info": {
   "codemirror_mode": {
    "name": "ipython",
    "version": 3
   },
   "file_extension": ".py",
   "mimetype": "text/x-python",
   "name": "python",
   "nbconvert_exporter": "python",
   "pygments_lexer": "ipython3",
   "version": "3.7.11"
  }
 },
 "nbformat": 4,
 "nbformat_minor": 5
}
